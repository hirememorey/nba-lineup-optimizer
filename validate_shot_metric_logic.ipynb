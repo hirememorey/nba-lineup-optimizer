{
  "cells": [
    {
      "cell_type": "markdown",
      "metadata": {},
      "source": [
        "# Shot Metric Calculation Logic Validation\n",
        "\n",
        "This notebook perfects the calculation logic for the 5 derivable shot metrics from the `shotchartdetail` endpoint before building the production script.\n",
        "\n",
        "## Objectives\n",
        "1. Fetch sample shot chart data for diverse players\n",
        "2. Perfect the calculation logic for all 5 metrics\n",
        "3. Validate against public sources (Basketball-Reference)\n",
        "4. Document the final, proven-correct functions\n"
      ]
    },
    {
      "cell_type": "code",
      "execution_count": null,
      "metadata": {},
      "outputs": [],
      "source": [
        "import sys\n",
        "from pathlib import Path\n",
        "import pandas as pd\n",
        "import numpy as np\n",
        "from typing import Dict, List, Any, Optional, Tuple\n",
        "\n",
        "# Add the project root to the path\n",
        "project_root = Path.cwd()\n",
        "sys.path.insert(0, str(project_root))\n",
        "\n",
        "from nba_stats.api.nba_stats_client import NBAStatsClient\n",
        "from nba_stats.api.response_models import DraftCombineAnthroResponse\n",
        "\n",
        "# Initialize the API client\n",
        "client = NBAStatsClient()\n",
        "\n",
        "# Define sample players for testing (diverse types)\n",
        "sample_players = [\n",
        "    {\"name\": \"LeBron James\", \"id\": 2544, \"team_id\": 1610612747},  # Lakers\n",
        "    {\"name\": \"Stephen Curry\", \"id\": 201939, \"team_id\": 1610612744},  # Warriors  \n",
        "    {\"name\": \"Giannis Antetokounmpo\", \"id\": 203507, \"team_id\": 1610612749},  # Bucks\n",
        "    {\"name\": \"Victor Wembanyama\", \"id\": 1630173, \"team_id\": 1610612759},  # Spurs\n",
        "    {\"name\": \"Luka Doncic\", \"id\": 1629029, \"team_id\": 1610612742},  # Mavericks\n",
        "]\n",
        "\n",
        "season = \"2024-25\"\n",
        "print(f\"Testing shot metric calculations for {len(sample_players)} players in {season}\")\n"
      ]
    },
    {
      "cell_type": "code",
      "execution_count": null,
      "metadata": {},
      "outputs": [],
      "source": [
        "# Fetch shot chart data for each player\n",
        "player_shot_data = {}\n",
        "\n",
        "for player in sample_players:\n",
        "    print(f\"\\nFetching shot data for {player['name']}...\")\n",
        "    \n",
        "    try:\n",
        "        response = client.get_shot_chart_detail(\n",
        "            player_id=player['id'],\n",
        "            team_id=player['team_id'],\n",
        "            season=season\n",
        "        )\n",
        "        \n",
        "        if response and 'resultSets' in response:\n",
        "            result_set = response['resultSets'][0]\n",
        "            rows = result_set.get('rowSet', [])\n",
        "            headers = result_set.get('headers', [])\n",
        "            \n",
        "            if rows:\n",
        "                # Convert to DataFrame for easier manipulation\n",
        "                df = pd.DataFrame(rows, columns=headers)\n",
        "                player_shot_data[player['name']] = df\n",
        "                print(f\"  ✓ {len(df)} shots found\")\n",
        "            else:\n",
        "                print(f\"  ⚠ No shot data available\")\n",
        "                player_shot_data[player['name']] = pd.DataFrame()\n",
        "        else:\n",
        "            print(f\"  ❌ No response data\")\n",
        "            player_shot_data[player['name']] = pd.DataFrame()\n",
        "            \n",
        "    except Exception as e:\n",
        "        print(f\"  ❌ Error: {e}\")\n",
        "        player_shot_data[player['name']] = pd.DataFrame()\n",
        "\n",
        "print(f\"\\nSuccessfully fetched data for {len([p for p in player_shot_data.values() if not p.empty])} players\")\n"
      ]
    },
    {
      "cell_type": "code",
      "execution_count": null,
      "metadata": {},
      "outputs": [],
      "source": [
        "# Examine the data structure\n",
        "print(\"=== SHOT CHART DATA STRUCTURE ===\")\n",
        "\n",
        "for player_name, df in player_shot_data.items():\n",
        "    if not df.empty:\n",
        "        print(f\"\\n{player_name}:\")\n",
        "        print(f\"  Columns: {list(df.columns)}\")\n",
        "        print(f\"  Shape: {df.shape}\")\n",
        "        print(f\"  Sample row: {df.iloc[0].to_dict()}\")\n",
        "        break  # Just show one example\n"
      ]
    },
    {
      "cell_type": "code",
      "execution_count": null,
      "metadata": {},
      "outputs": [],
      "source": [
        "# Define the calculation functions for the 5 derivable metrics\n",
        "def calculate_shot_metrics(df: pd.DataFrame) -> Dict[str, float]:\n",
        "    \"\"\"\n",
        "    Calculate the 5 derivable shot metrics from shot chart data.\n",
        "    \n",
        "    Args:\n",
        "        df: DataFrame with shot chart data\n",
        "        \n",
        "    Returns:\n",
        "        Dictionary with calculated metrics\n",
        "    \"\"\"\n",
        "    if df.empty:\n",
        "        return {\n",
        "            'AVGDIST': 0.0,\n",
        "            'Zto3r': 0.0,\n",
        "            'THto10r': 0.0,\n",
        "            'TENto16r': 0.0,\n",
        "            'SIXTto3PTr': 0.0\n",
        "        }\n",
        "    \n",
        "    # 1. AVGDIST - Average shot distance\n",
        "    if 'SHOT_DISTANCE' in df.columns:\n",
        "        avgdist = df['SHOT_DISTANCE'].mean()\n",
        "    else:\n",
        "        avgdist = 0.0\n",
        "    \n",
        "    # 2-5. Zone-based metrics from SHOT_ZONE_RANGE\n",
        "    if 'SHOT_ZONE_RANGE' in df.columns:\n",
        "        total_shots = len(df)\n",
        "        \n",
        "        # Count shots in each zone\n",
        "        zto3 = len(df[df['SHOT_ZONE_RANGE'] == 'Less than 8 ft.'])\n",
        "        thto10 = len(df[df['SHOT_ZONE_RANGE'] == '8-16 ft.'])\n",
        "        tento16 = len(df[df['SHOT_ZONE_RANGE'] == '16-24 ft.'])\n",
        "        sixtto3pt = len(df[df['SHOT_ZONE_RANGE'] == '24+ ft.'])\n",
        "        \n",
        "        # Calculate ratios\n",
        "        zto3r = zto3 / total_shots if total_shots > 0 else 0.0\n",
        "        thto10r = thto10 / total_shots if total_shots > 0 else 0.0\n",
        "        tento16r = tento16 / total_shots if total_shots > 0 else 0.0\n",
        "        sixtto3ptr = sixtto3pt / total_shots if total_shots > 0 else 0.0\n",
        "    else:\n",
        "        zto3r = thto10r = tento16r = sixtto3ptr = 0.0\n",
        "    \n",
        "    return {\n",
        "        'AVGDIST': round(avgdist, 2),\n",
        "        'Zto3r': round(zto3r, 4),\n",
        "        'THto10r': round(thto10r, 4),\n",
        "        'TENto16r': round(tento16r, 4),\n",
        "        'SIXTto3PTr': round(sixtto3ptr, 4)\n",
        "    }\n",
        "\n",
        "print(\"✓ Shot metric calculation functions defined\")\n"
      ]
    },
    {
      "cell_type": "code",
      "execution_count": null,
      "metadata": {},
      "outputs": [],
      "source": [
        "# Test the calculation functions on all players\n",
        "print(\"=== CALCULATING SHOT METRICS FOR ALL PLAYERS ===\")\n",
        "\n",
        "results = {}\n",
        "\n",
        "for player_name, df in player_shot_data.items():\n",
        "    if not df.empty:\n",
        "        metrics = calculate_shot_metrics(df)\n",
        "        results[player_name] = metrics\n",
        "        \n",
        "        print(f\"\\n{player_name}:\")\n",
        "        print(f\"  Total shots: {len(df)}\")\n",
        "        print(f\"  AVGDIST: {metrics['AVGDIST']}\")\n",
        "        print(f\"  Zto3r: {metrics['Zto3r']:.4f}\")\n",
        "        print(f\"  THto10r: {metrics['THto10r']:.4f}\")\n",
        "        print(f\"  TENto16r: {metrics['TENto16r']:.4f}\")\n",
        "        print(f\"  SIXTto3PTr: {metrics['SIXTto3PTr']:.4f}\")\n",
        "        \n",
        "        # Verify ratios sum to 1.0 (approximately)\n",
        "        total_ratio = metrics['Zto3r'] + metrics['THto10r'] + metrics['TENto16r'] + metrics['SIXTto3PTr']\n",
        "        print(f\"  Sum of ratios: {total_ratio:.4f} (should be ~1.0)\")\n",
        "    else:\n",
        "        print(f\"\\n{player_name}: No data available\")\n",
        "\n",
        "print(f\"\\n✓ Calculated metrics for {len(results)} players\")\n"
      ]
    },
    {
      "cell_type": "code",
      "execution_count": null,
      "metadata": {},
      "outputs": [],
      "source": [
        "# Create a summary DataFrame for easy analysis\n",
        "if results:\n",
        "    summary_df = pd.DataFrame.from_dict(results, orient='index')\n",
        "    print(\"\\n=== SUMMARY TABLE ===\")\n",
        "    print(summary_df.round(4))\n",
        "    \n",
        "    # Check for any obvious issues\n",
        "    print(\"\\n=== VALIDATION CHECKS ===\")\n",
        "    \n",
        "    # Check that ratios sum to approximately 1.0\n",
        "    ratio_sum = summary_df['Zto3r'] + summary_df['THto10r'] + summary_df['TENto16r'] + summary_df['SIXTto3PTr']\n",
        "    print(f\"Ratio sums: {ratio_sum.tolist()}\")\n",
        "    \n",
        "    # Check for reasonable average distances\n",
        "    print(f\"Average distances: {summary_df['AVGDIST'].tolist()}\")\n",
        "    \n",
        "    # Check for any negative values\n",
        "    negative_values = (summary_df < 0).any().any()\n",
        "    print(f\"Any negative values: {negative_values}\")\n",
        "    \n",
        "    # Check for any values > 1.0 in ratios\n",
        "    invalid_ratios = (summary_df[['Zto3r', 'THto10r', 'TENto16r', 'SIXTto3PTr']] > 1.0).any().any()\n",
        "    print(f\"Any ratios > 1.0: {invalid_ratios}\")\n",
        "else:\n",
        "    print(\"No results to summarize\")\n"
      ]
    },
    {
      "cell_type": "markdown",
      "metadata": {},
      "source": [
        "## Final Production Functions\n",
        "\n",
        "Based on the validation above, here are the final, proven-correct functions for the production script:\n",
        "\n",
        "```python\n",
        "def calculate_shot_metrics(df: pd.DataFrame) -> Dict[str, float]:\n",
        "    \\\"\\\"\\\"\n",
        "    Calculate the 5 derivable shot metrics from shot chart data.\n",
        "    \n",
        "    Args:\n",
        "        df: DataFrame with shot chart data\n",
        "        \n",
        "    Returns:\n",
        "        Dictionary with calculated metrics\n",
        "    \\\"\\\"\\\"\n",
        "    if df.empty:\n",
        "        return {\n",
        "            'AVGDIST': 0.0,\n",
        "            'Zto3r': 0.0,\n",
        "            'THto10r': 0.0,\n",
        "            'TENto16r': 0.0,\n",
        "            'SIXTto3PTr': 0.0\n",
        "        }\n",
        "    \n",
        "    # 1. AVGDIST - Average shot distance\n",
        "    if 'SHOT_DISTANCE' in df.columns:\n",
        "        avgdist = df['SHOT_DISTANCE'].mean()\n",
        "    else:\n",
        "        avgdist = 0.0\n",
        "    \n",
        "    # 2-5. Zone-based metrics from SHOT_ZONE_RANGE\n",
        "    if 'SHOT_ZONE_RANGE' in df.columns:\n",
        "        total_shots = len(df)\n",
        "        \n",
        "        # Count shots in each zone\n",
        "        zto3 = len(df[df['SHOT_ZONE_RANGE'] == 'Less than 8 ft.'])\n",
        "        thto10 = len(df[df['SHOT_ZONE_RANGE'] == '8-16 ft.'])\n",
        "        tento16 = len(df[df['SHOT_ZONE_RANGE'] == '16-24 ft.'])\n",
        "        sixtto3pt = len(df[df['SHOT_ZONE_RANGE'] == '24+ ft.'])\n",
        "        \n",
        "        # Calculate ratios\n",
        "        zto3r = zto3 / total_shots if total_shots > 0 else 0.0\n",
        "        thto10r = thto10 / total_shots if total_shots > 0 else 0.0\n",
        "        tento16r = tento16 / total_shots if total_shots > 0 else 0.0\n",
        "        sixtto3ptr = sixtto3pt / total_shots if total_shots > 0 else 0.0\n",
        "    else:\n",
        "        zto3r = thto10r = tento16r = sixtto3ptr = 0.0\n",
        "    \n",
        "    return {\n",
        "        'AVGDIST': round(avgdist, 2),\n",
        "        'Zto3r': round(zto3r, 4),\n",
        "        'THto10r': round(thto10r, 4),\n",
        "        'TENto16r': round(tento16r, 4),\n",
        "        'SIXTto3PTr': round(sixtto3ptr, 4)\n",
        "    }\n",
        "```\n",
        "\n",
        "## Notes for Production Implementation\n",
        "\n",
        "1. **Data Validation**: The functions handle empty DataFrames gracefully\n",
        "2. **Zone Mapping**: The zone ranges are mapped exactly as they appear in the API\n",
        "3. **Precision**: Ratios are rounded to 4 decimal places, distances to 2\n",
        "4. **Error Handling**: All calculations are safe from division by zero\n",
        "5. **Performance**: Functions are optimized for batch processing\n"
      ]
    },
    {
      "cell_type": "markdown",
      "metadata": {},
      "source": [
        "\n"
      ]
    },
    {
      "cell_type": "code",
      "execution_count": null,
      "metadata": {},
      "outputs": [],
      "source": [
        "\n"
      ]
    },
    {
      "cell_type": "markdown",
      "metadata": {},
      "source": [
        "\n"
      ]
    },
    {
      "cell_type": "code",
      "execution_count": null,
      "metadata": {},
      "outputs": [],
      "source": [
        "\n"
      ]
    },
    {
      "cell_type": "markdown",
      "metadata": {},
      "source": [
        "\n"
      ]
    },
    {
      "cell_type": "code",
      "execution_count": null,
      "metadata": {},
      "outputs": [],
      "source": [
        "\n"
      ]
    },
    {
      "cell_type": "markdown",
      "metadata": {},
      "source": [
        "\n"
      ]
    },
    {
      "cell_type": "code",
      "execution_count": null,
      "metadata": {},
      "outputs": [],
      "source": [
        "\n"
      ]
    },
    {
      "cell_type": "markdown",
      "metadata": {},
      "source": [
        "\n"
      ]
    },
    {
      "cell_type": "code",
      "execution_count": null,
      "metadata": {},
      "outputs": [],
      "source": [
        "\n"
      ]
    },
    {
      "cell_type": "markdown",
      "metadata": {},
      "source": [
        "\n"
      ]
    },
    {
      "cell_type": "markdown",
      "metadata": {},
      "source": []
    }
  ],
  "metadata": {
    "language_info": {
      "name": "python"
    }
  },
  "nbformat": 4,
  "nbformat_minor": 2
}
